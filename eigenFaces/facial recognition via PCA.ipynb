{
 "cells": [
  {
   "cell_type": "markdown",
   "metadata": {},
   "source": [
    "##### https://pythonmachinelearning.pro/face-recognition-with-eigenfaces/"
   ]
  },
  {
   "cell_type": "markdown",
   "metadata": {},
   "source": [
    "##### The tutorial uses a full dataset of thousands of faces. I just kept the most-occuring ones, e.g. min_occurrences > 60 (or 80?)"
   ]
  },
  {
   "cell_type": "code",
   "execution_count": 1,
   "metadata": {},
   "outputs": [],
   "source": [
    "import os\n",
    "import matplotlib.pyplot as plt\n",
    "from PIL import Image\n",
    "import random\n",
    "from sklearn.model_selection import train_test_split\n",
    "from sklearn.metrics import classification_report\n",
    "from sklearn.decomposition import PCA\n",
    "from sklearn.neural_network import MLPClassifier\n",
    "import numpy as np\n",
    "import tensorflow as tf\n",
    "import cv2\n",
    "\n",
    "from getConfig import getConfig\n",
    "from mapImageToClass import mapImageToClass"
   ]
  },
  {
   "cell_type": "code",
   "execution_count": 23,
   "metadata": {},
   "outputs": [],
   "source": [
    "def preProcess(fileName):\n",
    "    '''\n",
    "    - Read the .jpg file\n",
    "    - Convert from bytes to numpy\n",
    "    '''\n",
    "    rawBytes = tf.io.read_file(fileName)\n",
    "    img = tf.image.decode_jpeg(rawBytes, channels=3)\n",
    "    img = tf.cast(img, dtype=tf.float32)\n",
    "    #img /= 255.0\n",
    "    #img = tf.expand_dims(img, 0)\n",
    "    return img"
   ]
  },
  {
   "cell_type": "code",
   "execution_count": 24,
   "metadata": {},
   "outputs": [],
   "source": [
    "def createDataset(fileNames):\n",
    "    ''' Create a dataset of all the image files (.jpg)\n",
    "    'map' does the resizing and normalizing '''\n",
    "    ds = tf.data.Dataset.from_tensor_slices(fileNames)\n",
    "    return ds.map(preProcess, num_parallel_calls=tf.data.experimental.AUTOTUNE)"
   ]
  },
  {
   "cell_type": "code",
   "execution_count": 26,
   "metadata": {},
   "outputs": [],
   "source": [
    "def getFile(file):\n",
    "    '''\n",
    "    - \"file\" is the name of a .JPEG\n",
    "    - Read it and get the grayscale version, downsampling from 3 channels to 1, just following the tutorial\n",
    "    - Resize because training did not go well against the full image (250x250). Presumably the reduction in size from 62,000\n",
    "    bytes down to 100 was too much\n",
    "    - Flatten to make 2D (including other images as rows)'''\n",
    "    imgData = cv2.imread(file, cv2.IMREAD_GRAYSCALE)\n",
    "    imgData = cv2.resize(imgData, dsize=(47,62), interpolation=cv2.INTER_CUBIC)\n",
    "    imgData = imgData.flatten()\n",
    "    imgData = imgData.astype(float)\n",
    "    '''rawBytes = tf.io.read_file(file)\n",
    "    imgData = tf.image.decode_jpeg(rawBytes, channels=3)'''\n",
    "    return imgData"
   ]
  },
  {
   "cell_type": "code",
   "execution_count": 27,
   "metadata": {},
   "outputs": [],
   "source": [
    "config = getConfig()\n",
    "'''\n",
    "\"imageClass\" is fileName:Class, e.g. Tony_Blair_001.jpg: TonyBlair\n",
    "classIdx is Class:integerValue, e.g. TonyBlair:3\n",
    "idxClass is integerValue:Class, e.g. 3:TonyBlair '''\n",
    "imageClass, classIdx = mapImageToClass(config)\n",
    "# Also get the Class: Name mapping for looking at predictions\n",
    "idxClass = {}\n",
    "for k,v in classIdx.items():\n",
    "    idxClass[v] = k"
   ]
  },
  {
   "cell_type": "code",
   "execution_count": 28,
   "metadata": {},
   "outputs": [],
   "source": [
    "# These are the integerValues corresponding to a person, e.g Tony Blair is a 3\n",
    "# The order of labels is important: has to match the data in trainX and testX\n",
    "labels = [classIdx[imageClass[x]] for x in imageClass.keys()]"
   ]
  },
  {
   "cell_type": "code",
   "execution_count": 29,
   "metadata": {},
   "outputs": [
    {
     "data": {
      "text/plain": [
       "True"
      ]
     },
     "execution_count": 29,
     "metadata": {},
     "output_type": "execute_result"
    }
   ],
   "source": [
    "# Create a matrix of rows=images and cols=features (pixels)\n",
    "images = []\n",
    "for file in imageClass.keys():\n",
    "    imgData = getFile(file)\n",
    "    images.append(imgData)\n",
    "\n",
    "images = np.array(images)\n",
    "len(images)==len(labels)"
   ]
  },
  {
   "cell_type": "code",
   "execution_count": 77,
   "metadata": {},
   "outputs": [],
   "source": [
    "trainX, testX, trainY, testY = train_test_split(images, labels, test_size=0.2)"
   ]
  },
  {
   "cell_type": "code",
   "execution_count": 62,
   "metadata": {},
   "outputs": [],
   "source": [
    "# Normalize the data\n",
    "mu = trainX.mean()\n",
    "sigma = trainX.std()\n",
    "trainX = (trainX - mu)/sigma\n",
    "testX = (testX - mu)/sigma"
   ]
  },
  {
   "cell_type": "code",
   "execution_count": 78,
   "metadata": {},
   "outputs": [],
   "source": [
    "# run PCA \n",
    "pcaSize = 100\n",
    "pca = PCA(n_components=pcaSize, whiten=True).fit(trainX)"
   ]
  },
  {
   "cell_type": "code",
   "execution_count": 79,
   "metadata": {},
   "outputs": [],
   "source": [
    "# apply PCA transformation\n",
    "reducedTrain = pca.transform(trainX)\n",
    "reducedTest = pca.transform(testX)"
   ]
  },
  {
   "cell_type": "code",
   "execution_count": 80,
   "metadata": {},
   "outputs": [
    {
     "name": "stdout",
     "output_type": "stream",
     "text": [
      "Best validation score: 0.837\n",
      "Best validation score: 0.783\n",
      "Best validation score: 0.870\n",
      "Best validation score: 0.761\n",
      "Best validation score: 0.859\n",
      "Best validation score: 0.837\n",
      "Best validation score: 0.815\n",
      "Best validation score: 0.859\n",
      "Best validation score: 0.728\n",
      "Best validation score: 0.804\n"
     ]
    }
   ],
   "source": [
    "# Run the baseline NN\n",
    "for _ in range(10):\n",
    "    clf = MLPClassifier(hidden_layer_sizes=(1024,), batch_size=256, verbose=False, early_stopping=True).fit(reducedTrain, trainY)\n",
    "    print(\"Best validation score: {:.3f}\".format(clf.best_validation_score_))"
   ]
  },
  {
   "cell_type": "code",
   "execution_count": 82,
   "metadata": {},
   "outputs": [],
   "source": [
    "# Look at the results. Get predictions first\n",
    "preds = clf.predict(reducedTest)\n",
    "\n",
    "# Get the Names for Actual and Predicted\n",
    "actualName = [idxClass[n] for n in testY]\n",
    "predName = [idxClass[n] for n in preds]"
   ]
  },
  {
   "cell_type": "code",
   "execution_count": 90,
   "metadata": {},
   "outputs": [
    {
     "name": "stdout",
     "output_type": "stream",
     "text": [
      "Name                          Precision   Recall      F1\n",
      "DonaldRumsfeld                0.70      0.61      0.65\n",
      "GerhardSchroeder              1.00      0.50      0.67\n",
      "ColinPowell                   0.79      0.79      0.79\n",
      "TonyBlair                     0.66      0.73      0.69\n",
      "GeorgeW                       0.85      0.93      0.88\n"
     ]
    }
   ],
   "source": [
    "# Get the metrics\n",
    "classes = [x[1] for x in idxClass.items()]\n",
    "rpt = classification_report(testY, preds, target_names=classes, output_dict=True)\n",
    "\n",
    "print(\"{:<30}{:<12}{:<12}{}\".format(\"Name\", \"Precision\", \"Recall\", \"F1\"))\n",
    "for name in classes:\n",
    "    print(\"{:<30}{:<10.2f}{:<10.2f}{:.2f}\".format(name,rpt[name][\"precision\"],rpt[name][\"recall\"],rpt[name][\"f1-score\"]))"
   ]
  },
  {
   "cell_type": "code",
   "execution_count": 91,
   "metadata": {},
   "outputs": [],
   "source": [
    "def getImage(imgNum):\n",
    "    print(\"{:<35}{}\".format(\"Actual\", \"Prediction\"))\n",
    "    img = testX[imgNum]\n",
    "    img = np.reshape(img, newshape=[62,47])\n",
    "    plt.imshow(img, cmap=plt.cm.gray)\n",
    "    print(\"{:<35}{}\".format(actualName[imgNum], predName[imgNum]))"
   ]
  },
  {
   "cell_type": "code",
   "execution_count": 93,
   "metadata": {},
   "outputs": [
    {
     "name": "stdout",
     "output_type": "stream",
     "text": [
      "Actual                             Prediction\n",
      "ColinPowell                        GeorgeW\n"
     ]
    },
    {
     "data": {
      "image/png": "[encoded data removed]",
      "text/plain": [
       "<Figure size 432x288 with 1 Axes>"
      ]
     },
     "metadata": {
      "needs_background": "light"
     },
     "output_type": "display_data"
    }
   ],
   "source": [
    "# Look at random images\n",
    "getImage(np.random.randint(low=0, high=len(testY)))"
   ]
  }
 ],
 "metadata": {
  "kernelspec": {
   "display_name": "Python 3",
   "language": "python",
   "name": "python3"
  },
  "language_info": {
   "codemirror_mode": {
    "name": "ipython",
    "version": 3
   },
   "file_extension": ".py",
   "mimetype": "text/x-python",
   "name": "python",
   "nbconvert_exporter": "python",
   "pygments_lexer": "ipython3",
   "version": "3.5.2"
  }
 },
 "nbformat": 4,
 "nbformat_minor": 2
}
