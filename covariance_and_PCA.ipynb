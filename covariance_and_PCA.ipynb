{
 "cells": [
  {
   "cell_type": "code",
   "execution_count": 8,
   "metadata": {},
   "outputs": [],
   "source": [
    "import matplotlib.pyplot as plt"
   ]
  },
  {
   "cell_type": "markdown",
   "metadata": {},
   "source": [
    "##### Covariance"
   ]
  },
  {
   "cell_type": "code",
   "execution_count": 162,
   "metadata": {},
   "outputs": [
    {
     "data": {
      "text/plain": [
       "array([[ 1.10615387, -2.83172805],\n",
       "       [-2.83172805,  7.80229748]])"
      ]
     },
     "execution_count": 162,
     "metadata": {},
     "output_type": "execute_result"
    },
    {
     "data": {
      "image/png": "[encoded data removed]",
      "text/plain": [
       "<Figure size 432x288 with 1 Axes>"
      ]
     },
     "metadata": {
      "needs_background": "light"
     },
     "output_type": "display_data"
    }
   ],
   "source": [
    "s=200\n",
    "x = np.random.normal(loc=3, scale=1.0, size=s)\n",
    "y = -np.power(x,1.5)\n",
    "noise = np.random.normal(loc=0, scale=0.6, size=s)\n",
    "y += noise\n",
    "\n",
    "plt.scatter(x,y, s=3)\n",
    "\n",
    "np.cov(x,y)"
   ]
  },
  {
   "cell_type": "markdown",
   "metadata": {},
   "source": [
    "##### Eigenvectors"
   ]
  },
  {
   "cell_type": "code",
   "execution_count": 248,
   "metadata": {},
   "outputs": [
    {
     "name": "stdout",
     "output_type": "stream",
     "text": [
      "Covariance matrix:\n",
      "[[ 1.3129 -0.0036]\n",
      " [-0.0036  0.0432]]\n",
      "\n",
      "Eigenvalues: \n"
     ]
    },
    {
     "data": {
      "text/plain": [
       "array([1.3129, 0.0432])"
      ]
     },
     "execution_count": 248,
     "metadata": {},
     "output_type": "execute_result"
    },
    {
     "data": {
      "image/png": "[encoded data removed]",
      "text/plain": [
       "<Figure size 432x288 with 1 Axes>"
      ]
     },
     "metadata": {
      "needs_background": "light"
     },
     "output_type": "display_data"
    }
   ],
   "source": [
    "# near-zero covariance data first\n",
    "\n",
    "s=300\n",
    "x = np.random.normal(loc=3, scale=1.2, size=s)\n",
    "#noise = np.random.normal(loc=0, scale=0.4, size=s)\n",
    "y = np.random.normal(loc=2, scale=0.2, size=s)\n",
    "#y=x\n",
    "\n",
    "plt.scatter(x,y, s=3)\n",
    "plt.xlim(0,6)\n",
    "plt.ylim(0,6)\n",
    "cov = np.cov(x,y)\n",
    "print(\"Covariance matrix:\")\n",
    "print(cov)\n",
    "\n",
    "w,v = np.linalg.eig(cov)\n",
    "print(\"\\nEigenvalues: \")\n",
    "w"
   ]
  },
  {
   "cell_type": "code",
   "execution_count": 286,
   "metadata": {},
   "outputs": [
    {
     "name": "stdout",
     "output_type": "stream",
     "text": [
      "Covariance matrix:\n",
      "[[ 9.1052  9.3182]\n",
      " [ 9.3182 10.775 ]]\n",
      "\n",
      "Eigenvalues: \n",
      "[ 0.5846 19.2956]\n"
     ]
    },
    {
     "data": {
      "image/png": "[encoded data removed]",
      "text/plain": [
       "<Figure size 432x288 with 1 Axes>"
      ]
     },
     "metadata": {
      "needs_background": "light"
     },
     "output_type": "display_data"
    }
   ],
   "source": [
    "# non-zero covariance data\n",
    "\n",
    "s=300\n",
    "a = np.random.normal(loc=0, scale=1.4, size=s)\n",
    "b = np.random.normal(loc=0, scale=1.1, size=s)\n",
    "x = 2*a\n",
    "y=x+b\n",
    "\n",
    "axisLimit = [-10,10]\n",
    "plt.scatter(x,y, s=3)\n",
    "plt.xlim(axisLimit)\n",
    "plt.ylim(axisLimit)\n",
    "cov = np.cov(x,y)\n",
    "print(\"Covariance matrix:\")\n",
    "print(cov)\n",
    "\n",
    "w,v = np.linalg.eig(cov)\n",
    "print(\"\\nEigenvalues: \")\n",
    "print(w)"
   ]
  },
  {
   "cell_type": "code",
   "execution_count": null,
   "metadata": {},
   "outputs": [],
   "source": [
    "x = np.reshape(x, newshape=[-1,1])\n",
    "y = np.reshape(y, newshape=[-1,1])\n",
    "merged = np.concatenate([x,y], axis=1)"
   ]
  },
  {
   "cell_type": "code",
   "execution_count": 309,
   "metadata": {},
   "outputs": [
    {
     "data": {
      "text/plain": [
       "(300, 2)"
      ]
     },
     "execution_count": 309,
     "metadata": {},
     "output_type": "execute_result"
    }
   ],
   "source": []
  },
  {
   "cell_type": "code",
   "execution_count": 307,
   "metadata": {},
   "outputs": [
    {
     "data": {
      "text/plain": [
       "array([-0.738 ,  0.6748])"
      ]
     },
     "execution_count": 307,
     "metadata": {},
     "output_type": "execute_result"
    }
   ],
   "source": [
    "v[:,0]"
   ]
  },
  {
   "cell_type": "code",
   "execution_count": 308,
   "metadata": {},
   "outputs": [
    {
     "data": {
      "text/plain": [
       "array([-0.6748, -0.738 ])"
      ]
     },
     "execution_count": 308,
     "metadata": {},
     "output_type": "execute_result"
    }
   ],
   "source": [
    "v[:,1]"
   ]
  },
  {
   "cell_type": "code",
   "execution_count": null,
   "metadata": {},
   "outputs": [],
   "source": []
  }
 ],
 "metadata": {
  "kernelspec": {
   "display_name": "Python 3",
   "language": "python",
   "name": "python3"
  },
  "language_info": {
   "codemirror_mode": {
    "name": "ipython",
    "version": 3
   },
   "file_extension": ".py",
   "mimetype": "text/x-python",
   "name": "python",
   "nbconvert_exporter": "python",
   "pygments_lexer": "ipython3",
   "version": "3.5.2"
  }
 },
 "nbformat": 4,
 "nbformat_minor": 2
}
