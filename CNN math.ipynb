{
 "cells": [
  {
   "cell_type": "code",
   "execution_count": 1,
   "metadata": {
    "collapsed": true
   },
   "outputs": [],
   "source": [
    "import numpy as np"
   ]
  },
  {
   "cell_type": "code",
   "execution_count": 24,
   "metadata": {
    "collapsed": true
   },
   "outputs": [],
   "source": [
    "# Create an input volume\n",
    "inputSide = 4\n",
    "inputDepth = 3\n",
    "inputVol = inputSide*inputSide*inputDepth\n",
    "inputVol = [np.random.randint(0,3) for x in range(inputVol)]\n",
    "inputVol = np.reshape(inputVol, [inputSide,inputSide,inputDepth])"
   ]
  },
  {
   "cell_type": "code",
   "execution_count": 32,
   "metadata": {},
   "outputs": [
    {
     "name": "stdout",
     "output_type": "stream",
     "text": [
      "Output volume will have dimensions:  [ 3 3 4 ]\n"
     ]
    }
   ],
   "source": [
    "# Create a Convolutional layer with:\n",
    "W=4   # Input size (assuming width=height)\n",
    "P=0   # Padding\n",
    "S=1   # Stride length\n",
    "K=4   # Number of filters\n",
    "F=2   # Local Region size aka Filter Size\n",
    "# Output volume will be 3x3x3\n",
    "outputW = round((W-F+2*P)/S +1)\n",
    "print(\"Output volume will have dimensions: \", \"[\",outputW,outputW,K, \"]\")"
   ]
  },
  {
   "cell_type": "code",
   "execution_count": 36,
   "metadata": {},
   "outputs": [
    {
     "name": "stdout",
     "output_type": "stream",
     "text": [
      "Each depth slice will require 12 weights\n",
      "...and we have 4 filters so need 48 weights\n"
     ]
    }
   ],
   "source": [
    "# Need weights for the local receptive field\n",
    "weightsPerSlice = F*F*inputDepth\n",
    "print(\"Each depth slice will require\",weightsPerSlice, \"weights\")\n",
    "totalWeights = weightsPerSlice*K\n",
    "print(\"...and we have\", K, \"filters so need\",totalWeights, \"weights\")"
   ]
  },
  {
   "cell_type": "code",
   "execution_count": 37,
   "metadata": {
    "collapsed": true
   },
   "outputs": [],
   "source": [
    "weights = [np.random.randint(0,3) for x in range(totalWeights)]"
   ]
  }
 ],
 "metadata": {
  "kernelspec": {
   "display_name": "Python 3",
   "language": "python",
   "name": "python3"
  },
  "language_info": {
   "codemirror_mode": {
    "name": "ipython",
    "version": 3
   },
   "file_extension": ".py",
   "mimetype": "text/x-python",
   "name": "python",
   "nbconvert_exporter": "python",
   "pygments_lexer": "ipython3",
   "version": "3.5.2"
  }
 },
 "nbformat": 4,
 "nbformat_minor": 2
}
